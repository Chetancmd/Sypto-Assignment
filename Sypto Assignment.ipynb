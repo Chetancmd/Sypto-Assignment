{
 "cells": [
  {
   "cell_type": "markdown",
   "id": "0357bc7c",
   "metadata": {},
   "source": [
    "# Importing Necessary Libraries"
   ]
  },
  {
   "cell_type": "code",
   "execution_count": 1,
   "id": "95a60d2b",
   "metadata": {},
   "outputs": [],
   "source": [
    "import pandas as pd\n",
    "import requests\n",
    "import csv\n",
    "import os\n",
    "import zipfile\n",
    "import io\n",
    "import glob"
   ]
  },
  {
   "cell_type": "markdown",
   "id": "10216ea2",
   "metadata": {},
   "source": [
    "# Fetching Fyers Data "
   ]
  },
  {
   "cell_type": "code",
   "execution_count": 2,
   "id": "c5cf76a9",
   "metadata": {},
   "outputs": [],
   "source": [
    "fyers_url = \"https://public.fyers.in/sym_details/NSE_FO.csv\"\n",
    "fyers_df = pd.read_csv(fyers_url)\n",
    "fyers_columns = [\n",
    "    'Instrument_ID', 'Instrument_Name', 'Segment_ID', 'Lot_Size', 'Tick_Size',\n",
    "    'Unused_Column', 'Trading_Hours', 'Expiry_Date', 'Timestamp', \n",
    "    'Exchange_Symbol', 'Precision', 'Multiplier', 'Unique_Code', \n",
    "    'Underlying_Asset', 'Asset_Code', 'Price_Change', 'Settlement_Type', \n",
    "    'Trading_Code', 'Option_Type', 'Strike_Price', 'Open_Interest'\n",
    "]\n",
    "fyers_df.columns = fyers_columns\n",
    "fyers_df['Expiry_Date'] = pd.to_datetime(fyers_df['Expiry_Date'], errors='coerce')"
   ]
  },
  {
   "cell_type": "markdown",
   "id": "179f39f4",
   "metadata": {},
   "source": [
    "# Parse 'Instrument_Name' for component breakdown"
   ]
  },
  {
   "cell_type": "code",
   "execution_count": 3,
   "id": "2000cb39",
   "metadata": {},
   "outputs": [],
   "source": [
    "split_instrument = fyers_df['Instrument_Name'].str.split(' ', expand=True)\n",
    "fyers_df[['Underlying_Asset', 'Expiry_Day', 'Expiry_Month', 'Expiry_Year']] = split_instrument[[0, 1, 2, 3]]\n",
    "fyers_df['Strike_Price'] = pd.to_numeric(split_instrument[4], errors='coerce')\n",
    "fyers_df['Option_Type'] = split_instrument[5]\n",
    "fyers_df['Expiry_Date'] = pd.to_datetime(\n",
    "    fyers_df['Expiry_Day'] + ' ' + fyers_df['Expiry_Month'] + ' ' + fyers_df['Expiry_Year'], errors='coerce'\n",
    ")"
   ]
  },
  {
   "cell_type": "markdown",
   "id": "ff83899a",
   "metadata": {},
   "source": [
    "# Dropping Unnecessary Columns and Saving File"
   ]
  },
  {
   "cell_type": "code",
   "execution_count": 4,
   "id": "27b6c0af",
   "metadata": {},
   "outputs": [],
   "source": [
    "drop_cols = ['Unused_Column', 'Timestamp', 'Precision', 'Multiplier', 'Trading_Code', 'Asset_Code', 'Price_Change', 'Settlement_Type']\n",
    "fyers_df = fyers_df.drop(columns=drop_cols)\n",
    "fyers_df.to_csv('fyers.csv', index=False)"
   ]
  },
  {
   "cell_type": "markdown",
   "id": "507ad2da",
   "metadata": {},
   "source": [
    "# Fetching and saving Angel One data"
   ]
  },
  {
   "cell_type": "code",
   "execution_count": 5,
   "id": "0b25dd70",
   "metadata": {},
   "outputs": [],
   "source": [
    "angel_url = \"https://margincalculator.angelbroking.com/OpenAPI_File/files/OpenAPIScripMaster.json\"\n",
    "angel_response = requests.get(angel_url)\n",
    "angel_data = angel_response.json()\n",
    "angel_df = pd.DataFrame(angel_data)\n",
    "angel_df.to_csv('angel_one.csv', index=False)"
   ]
  },
  {
   "cell_type": "markdown",
   "id": "254424fe",
   "metadata": {},
   "source": [
    "# ICICI data handling and extraction"
   ]
  },
  {
   "cell_type": "code",
   "execution_count": 6,
   "id": "1fa60dba",
   "metadata": {},
   "outputs": [],
   "source": [
    "icici_url = \"https://directlink.icicidirect.com/NewSecurityMaster/SecurityMaster.zip\"\n",
    "os.makedirs('icici', exist_ok=True)"
   ]
  },
  {
   "cell_type": "code",
   "execution_count": 7,
   "id": "080e567e",
   "metadata": {},
   "outputs": [],
   "source": [
    "def download_extract_zip(url, extract_path='icici'):\n",
    "    response = requests.get(url)\n",
    "    response.raise_for_status()\n",
    "    \n",
    "    with zipfile.ZipFile(io.BytesIO(response.content)) as z:\n",
    "        z.extractall(extract_path)\n",
    "        for txt_file in [f for f in z.namelist() if f.endswith('.txt')]:\n",
    "            with open(os.path.join(extract_path, txt_file), 'r') as file:\n",
    "                data = file.read().replace('|', ',')\n",
    "            with open(os.path.join(extract_path, txt_file.replace('.txt', '.csv')), 'w') as csv_file:\n",
    "                csv_file.write(data)\n",
    "\n",
    "download_extract_zip(icici_url)"
   ]
  },
  {
   "cell_type": "markdown",
   "id": "e43a73df",
   "metadata": {},
   "source": [
    "# Compile ICICI CSV files into a single DataFrame"
   ]
  },
  {
   "cell_type": "code",
   "execution_count": 8,
   "id": "c5cbdcc5",
   "metadata": {},
   "outputs": [],
   "source": [
    "csv_files = glob.glob('icici/*.csv')\n",
    "icici_data_frames = [pd.read_csv(f, on_bad_lines='skip') for f in csv_files]\n",
    "icici_df = pd.concat(icici_data_frames, ignore_index=True).drop_duplicates(subset=['Token']).fillna('')\n",
    "icici_df.to_csv('icici.csv', index=False)"
   ]
  },
  {
   "cell_type": "markdown",
   "id": "c4bbde51",
   "metadata": {},
   "source": [
    "# Fetching kotak data and merging cash and futures data"
   ]
  },
  {
   "cell_type": "code",
   "execution_count": 9,
   "id": "327abcf4",
   "metadata": {},
   "outputs": [],
   "source": [
    "kotak_urls = {\n",
    "    \"cash\": \"https://preferred.kotaksecurities.com/security/production/TradeApiInstruments_Cash_01_04_2022.txt\",\n",
    "    \"futures\": \"https://preferred.kotaksecurities.com/security/production/TradeApiInstruments_FNO_01_04_2022.txt\"\n",
    "}\n",
    "\n",
    "os.makedirs('kotak', exist_ok=True)\n",
    "for filename, url in kotak_urls.items():\n",
    "    response = requests.get(url)\n",
    "    response.raise_for_status()  \n",
    "    csv_data = []\n",
    "    for line in response.text.strip().splitlines():\n",
    "        csv_line = [element.strip() for element in line.split('|')]\n",
    "        csv_data.append(','.join(csv_line))\n",
    "    csv_content = '\\n'.join(csv_data)\n",
    "\n",
    "    path = f'kotak/{filename}.csv' \n",
    "    \n",
    "    with open(path, 'w') as file:\n",
    "        file.write(csv_content)"
   ]
  },
  {
   "cell_type": "code",
   "execution_count": 10,
   "id": "0f06568b",
   "metadata": {},
   "outputs": [],
   "source": [
    "df_cash = pd.read_csv('kotak/cash.csv', on_bad_lines='skip')\n",
    "df_futures = pd.read_csv('kotak/futures.csv', on_bad_lines='skip')\n",
    "\n",
    "df_cash = df_cash.rename(columns={'OptionType': 'optionType'})"
   ]
  },
  {
   "cell_type": "code",
   "execution_count": 11,
   "id": "06fbf5cc",
   "metadata": {},
   "outputs": [
    {
     "name": "stdout",
     "output_type": "stream",
     "text": [
      "   instrumentToken instrumentName                  name  lastPrice expiry  \\\n",
      "0             9516      20MICRONS        20 Microns Ltd      73.85      0   \n",
      "1            43865      3IINFOLTD       3i Infotech Ltd      51.25      0   \n",
      "2              891        3MINDIA          3M India Ltd   19697.30      0   \n",
      "3              607         3PLAND  3P Land Holdings Ltd      14.50      0   \n",
      "4            13140         5PAISA    5Paisa Capital Ltd     344.70      0   \n",
      "\n",
      "   strike  tickSize  lotSize instrumentType segment exchange          isin  \\\n",
      "0     0.0      0.05        1             EQ    CASH      NSE  INE144J01027   \n",
      "1     0.0      0.05        1             EQ    CASH      NSE  INE748C01038   \n",
      "2     0.0      0.05        1             EQ    CASH      NSE  INE470A01017   \n",
      "3     0.0      0.05        1             EQ    CASH      NSE  INE105C01023   \n",
      "4     0.0      0.05        1             EQ    CASH      NSE  INE618L01018   \n",
      "\n",
      "   multiplier  exchangeToken optionType  \n",
      "0           1          16921          -  \n",
      "1           1           6232          -  \n",
      "2           1            474          -  \n",
      "3           1           2595          -  \n",
      "4           1            445          -  \n"
     ]
    }
   ],
   "source": [
    "if set(df_cash.columns) == set(df_futures.columns):\n",
    "    merged_data = pd.concat([df_cash, df_futures], ignore_index=True)\n",
    "    print(merged_data.head()) \n",
    "else:\n",
    "    print(\"The DataFrames do not have the same columns, cannot merge.\")"
   ]
  },
  {
   "cell_type": "code",
   "execution_count": 12,
   "id": "3d0ab6d7",
   "metadata": {},
   "outputs": [],
   "source": [
    "merged_data.to_csv('kotak.csv', index=False)"
   ]
  },
  {
   "cell_type": "code",
   "execution_count": 13,
   "id": "e2228f10",
   "metadata": {},
   "outputs": [
    {
     "data": {
      "text/html": [
       "<div>\n",
       "<style scoped>\n",
       "    .dataframe tbody tr th:only-of-type {\n",
       "        vertical-align: middle;\n",
       "    }\n",
       "\n",
       "    .dataframe tbody tr th {\n",
       "        vertical-align: top;\n",
       "    }\n",
       "\n",
       "    .dataframe thead th {\n",
       "        text-align: right;\n",
       "    }\n",
       "</style>\n",
       "<table border=\"1\" class=\"dataframe\">\n",
       "  <thead>\n",
       "    <tr style=\"text-align: right;\">\n",
       "      <th></th>\n",
       "      <th>instrumentToken</th>\n",
       "      <th>instrumentName</th>\n",
       "      <th>name</th>\n",
       "      <th>lastPrice</th>\n",
       "      <th>expiry</th>\n",
       "      <th>strike</th>\n",
       "      <th>tickSize</th>\n",
       "      <th>lotSize</th>\n",
       "      <th>instrumentType</th>\n",
       "      <th>segment</th>\n",
       "      <th>exchange</th>\n",
       "      <th>isin</th>\n",
       "      <th>multiplier</th>\n",
       "      <th>exchangeToken</th>\n",
       "      <th>optionType</th>\n",
       "    </tr>\n",
       "  </thead>\n",
       "  <tbody>\n",
       "    <tr>\n",
       "      <th>0</th>\n",
       "      <td>9516</td>\n",
       "      <td>20MICRONS</td>\n",
       "      <td>20 Microns Ltd</td>\n",
       "      <td>73.85</td>\n",
       "      <td>0</td>\n",
       "      <td>0.0</td>\n",
       "      <td>0.05</td>\n",
       "      <td>1</td>\n",
       "      <td>EQ</td>\n",
       "      <td>CASH</td>\n",
       "      <td>NSE</td>\n",
       "      <td>INE144J01027</td>\n",
       "      <td>1</td>\n",
       "      <td>16921</td>\n",
       "      <td>-</td>\n",
       "    </tr>\n",
       "    <tr>\n",
       "      <th>1</th>\n",
       "      <td>43865</td>\n",
       "      <td>3IINFOLTD</td>\n",
       "      <td>3i Infotech Ltd</td>\n",
       "      <td>51.25</td>\n",
       "      <td>0</td>\n",
       "      <td>0.0</td>\n",
       "      <td>0.05</td>\n",
       "      <td>1</td>\n",
       "      <td>EQ</td>\n",
       "      <td>CASH</td>\n",
       "      <td>NSE</td>\n",
       "      <td>INE748C01038</td>\n",
       "      <td>1</td>\n",
       "      <td>6232</td>\n",
       "      <td>-</td>\n",
       "    </tr>\n",
       "    <tr>\n",
       "      <th>2</th>\n",
       "      <td>891</td>\n",
       "      <td>3MINDIA</td>\n",
       "      <td>3M India Ltd</td>\n",
       "      <td>19697.30</td>\n",
       "      <td>0</td>\n",
       "      <td>0.0</td>\n",
       "      <td>0.05</td>\n",
       "      <td>1</td>\n",
       "      <td>EQ</td>\n",
       "      <td>CASH</td>\n",
       "      <td>NSE</td>\n",
       "      <td>INE470A01017</td>\n",
       "      <td>1</td>\n",
       "      <td>474</td>\n",
       "      <td>-</td>\n",
       "    </tr>\n",
       "    <tr>\n",
       "      <th>3</th>\n",
       "      <td>607</td>\n",
       "      <td>3PLAND</td>\n",
       "      <td>3P Land Holdings Ltd</td>\n",
       "      <td>14.50</td>\n",
       "      <td>0</td>\n",
       "      <td>0.0</td>\n",
       "      <td>0.05</td>\n",
       "      <td>1</td>\n",
       "      <td>EQ</td>\n",
       "      <td>CASH</td>\n",
       "      <td>NSE</td>\n",
       "      <td>INE105C01023</td>\n",
       "      <td>1</td>\n",
       "      <td>2595</td>\n",
       "      <td>-</td>\n",
       "    </tr>\n",
       "    <tr>\n",
       "      <th>4</th>\n",
       "      <td>13140</td>\n",
       "      <td>5PAISA</td>\n",
       "      <td>5Paisa Capital Ltd</td>\n",
       "      <td>344.70</td>\n",
       "      <td>0</td>\n",
       "      <td>0.0</td>\n",
       "      <td>0.05</td>\n",
       "      <td>1</td>\n",
       "      <td>EQ</td>\n",
       "      <td>CASH</td>\n",
       "      <td>NSE</td>\n",
       "      <td>INE618L01018</td>\n",
       "      <td>1</td>\n",
       "      <td>445</td>\n",
       "      <td>-</td>\n",
       "    </tr>\n",
       "  </tbody>\n",
       "</table>\n",
       "</div>"
      ],
      "text/plain": [
       "   instrumentToken instrumentName                  name  lastPrice expiry  \\\n",
       "0             9516      20MICRONS        20 Microns Ltd      73.85      0   \n",
       "1            43865      3IINFOLTD       3i Infotech Ltd      51.25      0   \n",
       "2              891        3MINDIA          3M India Ltd   19697.30      0   \n",
       "3              607         3PLAND  3P Land Holdings Ltd      14.50      0   \n",
       "4            13140         5PAISA    5Paisa Capital Ltd     344.70      0   \n",
       "\n",
       "   strike  tickSize  lotSize instrumentType segment exchange          isin  \\\n",
       "0     0.0      0.05        1             EQ    CASH      NSE  INE144J01027   \n",
       "1     0.0      0.05        1             EQ    CASH      NSE  INE748C01038   \n",
       "2     0.0      0.05        1             EQ    CASH      NSE  INE470A01017   \n",
       "3     0.0      0.05        1             EQ    CASH      NSE  INE105C01023   \n",
       "4     0.0      0.05        1             EQ    CASH      NSE  INE618L01018   \n",
       "\n",
       "   multiplier  exchangeToken optionType  \n",
       "0           1          16921          -  \n",
       "1           1           6232          -  \n",
       "2           1            474          -  \n",
       "3           1           2595          -  \n",
       "4           1            445          -  "
      ]
     },
     "execution_count": 13,
     "metadata": {},
     "output_type": "execute_result"
    }
   ],
   "source": [
    "df_kotak = pd.read_csv('kotak.csv',low_memory=False)\n",
    "df_kotak.head()"
   ]
  },
  {
   "cell_type": "markdown",
   "id": "7abb7148",
   "metadata": {},
   "source": [
    "# Fetching Zerodha Data"
   ]
  },
  {
   "cell_type": "code",
   "execution_count": 14,
   "id": "aa75e412",
   "metadata": {},
   "outputs": [],
   "source": [
    "zerodha_url = \"https://api.kite.trade/instruments\"\n",
    "zerodha_file = \"zerodha.csv\"\n",
    "response = requests.get(zerodha_url)\n",
    "with open(zerodha_file, 'w', newline='') as file:\n",
    "    writer = csv.writer(file)\n",
    "    for line in response.text.splitlines():\n",
    "        writer.writerow(line.split(','))"
   ]
  },
  {
   "cell_type": "markdown",
   "id": "2ed20d41",
   "metadata": {},
   "source": [
    "# Renaming and merging columns for unified dataset"
   ]
  },
  {
   "cell_type": "code",
   "execution_count": 15,
   "id": "976af9f0",
   "metadata": {},
   "outputs": [],
   "source": [
    "rename_mapping = {\n",
    "    'Fyers': {\n",
    "        'Instrument_ID': 'token', 'Instrument_Name': 'name', 'Lot_Size': 'lotSize', 'Tick_Size': 'tick_size',\n",
    "        'Expiry_Date': 'expiry', 'Option_Type': 'optionType', 'Strike_Price': 'strike'\n",
    "    },\n",
    "    'AngelOne': {\n",
    "        'token': 'token', 'symbol': 'tradingsymbol', 'name': 'angel_name', 'expiry': 'expiry', \n",
    "        'strike': 'strike', 'lotsize': 'lotSize', 'instrumenttype': 'optionType'\n",
    "    },\n",
    "    'ICICI': {\n",
    "        'Token': 'token', 'ShortName': 'tradingsymbol', 'InstrumentName': 'icici_name', \n",
    "        'ExpiryDate': 'expiry', 'StrikePrice': 'strike', 'LotSize': 'lotSize', 'OptionType': 'optionType'\n",
    "    },\n",
    "    'Kotak': {\n",
    "        'instrumentToken': 'token', 'instrumentName': 'kotak_name', 'expiry': 'expiry', \n",
    "        'strike': 'strike', 'lotSize': 'lotSize', 'optionType': 'optionType'\n",
    "    },\n",
    "    'Zerodha': {\n",
    "        'instrument_token': 'token', 'tradingsymbol': 'tradingsymbol', 'name': 'zerodha_name',  \n",
    "        'expiry': 'expiry', 'strike': 'strike', 'lot_size': 'lotSize', 'instrument_type': 'optionType'\n",
    "    }\n",
    "}"
   ]
  },
  {
   "cell_type": "markdown",
   "id": "78ed8a45",
   "metadata": {},
   "source": [
    "# Load and rename columns for each DataFrame"
   ]
  },
  {
   "cell_type": "code",
   "execution_count": 16,
   "id": "02aeb4d3",
   "metadata": {},
   "outputs": [
    {
     "name": "stderr",
     "output_type": "stream",
     "text": [
      "C:\\Users\\Chetan\\AppData\\Local\\Temp\\ipykernel_25540\\4075534302.py:2: DtypeWarning: Columns (0) have mixed types. Specify dtype option on import or set low_memory=False.\n",
      "  angel_df = pd.read_csv('angel_one.csv').rename(columns=rename_mapping['AngelOne'])\n",
      "C:\\Users\\Chetan\\AppData\\Local\\Temp\\ipykernel_25540\\4075534302.py:3: DtypeWarning: Columns (0,1,2,3,11,12,25,33,34,35,37,66,86,95,96,97,104,154) have mixed types. Specify dtype option on import or set low_memory=False.\n",
      "  icici_df = pd.read_csv('icici.csv').rename(columns=rename_mapping['ICICI'])\n",
      "C:\\Users\\Chetan\\AppData\\Local\\Temp\\ipykernel_25540\\4075534302.py:4: DtypeWarning: Columns (2,11) have mixed types. Specify dtype option on import or set low_memory=False.\n",
      "  kotak_df = pd.read_csv('kotak.csv').rename(columns=rename_mapping['Kotak'])\n"
     ]
    }
   ],
   "source": [
    "fyers_df = pd.read_csv('fyers.csv').rename(columns=rename_mapping['Fyers'])\n",
    "angel_df = pd.read_csv('angel_one.csv').rename(columns=rename_mapping['AngelOne'])\n",
    "icici_df = pd.read_csv('icici.csv').rename(columns=rename_mapping['ICICI'])\n",
    "kotak_df = pd.read_csv('kotak.csv').rename(columns=rename_mapping['Kotak'])\n",
    "zerodha_df = pd.read_csv('zerodha.csv').rename(columns=rename_mapping['Zerodha'])\n",
    "\n",
    "for df in [fyers_df, angel_df, icici_df, kotak_df, zerodha_df]:\n",
    "    df['token'] = df['token'].astype(str)"
   ]
  },
  {
   "cell_type": "markdown",
   "id": "c4e4d0f5",
   "metadata": {},
   "source": [
    "# Merge all data sources"
   ]
  },
  {
   "cell_type": "code",
   "execution_count": 17,
   "id": "d79a5cc6",
   "metadata": {},
   "outputs": [],
   "source": [
    "merged_df = pd.merge(fyers_df, angel_df, on=['token', 'expiry', 'strike', 'lotSize', 'optionType'], how='outer')\n",
    "merged_df = pd.merge(merged_df, icici_df, on=['token', 'expiry', 'strike', 'lotSize', 'optionType'], how='outer')\n",
    "merged_df = pd.merge(merged_df, kotak_df, on=['token', 'expiry', 'strike', 'lotSize', 'optionType'], how='outer')\n",
    "merged_df = pd.merge(merged_df, zerodha_df, on=['token', 'expiry', 'strike', 'lotSize', 'optionType'], how='outer')"
   ]
  },
  {
   "cell_type": "code",
   "execution_count": 18,
   "id": "415d8147",
   "metadata": {},
   "outputs": [
    {
     "name": "stdout",
     "output_type": "stream",
     "text": [
      "Consolidation Complete!\n"
     ]
    }
   ],
   "source": [
    "merged_df.to_csv('final_merged_data.csv', index=False)\n",
    "print(\"Consolidation Complete!\")"
   ]
  },
  {
   "cell_type": "code",
   "execution_count": null,
   "id": "ce42b81c",
   "metadata": {},
   "outputs": [],
   "source": []
  },
  {
   "cell_type": "code",
   "execution_count": null,
   "id": "7b8fdf0d",
   "metadata": {},
   "outputs": [],
   "source": []
  }
 ],
 "metadata": {
  "kernelspec": {
   "display_name": "Python 3 (ipykernel)",
   "language": "python",
   "name": "python3"
  },
  "language_info": {
   "codemirror_mode": {
    "name": "ipython",
    "version": 3
   },
   "file_extension": ".py",
   "mimetype": "text/x-python",
   "name": "python",
   "nbconvert_exporter": "python",
   "pygments_lexer": "ipython3",
   "version": "3.11.4"
  }
 },
 "nbformat": 4,
 "nbformat_minor": 5
}
